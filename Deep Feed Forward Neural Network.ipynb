{
 "cells": [
  {
   "cell_type": "markdown",
   "metadata": {},
   "source": [
    "\"\"\"\n",
    "Created on Sun Oct 23 14:18:09 2016\n",
    "\n",
    "@author: Vaisakh <vaisakhs.shaj@gmail.com>\n",
    "\"\"\"\n",
    "\n",
    "References\n",
    "++++++++++\n",
    "\n",
    "https://www.udacity.com/course/deep-learning--ud730\n",
    "http://info.usherbrooke.ca/hlarochelle/neural_networks/content.html\n",
    "http://stackoverflow.com/questions/34727431/tensorflow-on-jupyter-cant-restore-variables"
   ]
  },
  {
   "cell_type": "markdown",
   "metadata": {},
   "source": [
    "Importing Necessary Librareis"
   ]
  },
  {
   "cell_type": "code",
   "execution_count": null,
   "metadata": {
    "collapsed": true
   },
   "outputs": [],
   "source": [
    "from __future__ import print_function\n",
    "import numpy as np\n",
    "import tensorflow as tf\n",
    "from six.moves import cPickle as pickle\n",
    "\n",
    "\n",
    "class FLAGS:\n",
    "    def __init__(self):\n",
    "        self.randomInit = True\n",
    "        self.b = 0"
   ]
  },
  {
   "cell_type": "markdown",
   "metadata": {},
   "source": [
    "Hyperparameters and other Inputs necessary for training the model"
   ]
  },
  {
   "cell_type": "code",
   "execution_count": null,
   "metadata": {
    "collapsed": true
   },
   "outputs": [],
   "source": [
    "FLAG =FLAGS()\n",
    "FLAG.randomInit = True\n",
    "\n",
    "pickle_file='/home/dnnlab/vaisakh/anaconda3/Code/Udacity/notMNIST.pickle'\n",
    "checkPointPath='/home/dnnlab/vaisakh/DNN/ImageModels/NOTMNIST/DNN2layer/961-560.ckpt'\n",
    "checkPointFolder='/home/dnnlab/vaisakh/DNN/ImageModels/NOTMNIST/DNN2layer'\n",
    "image_size = 28\n",
    "num_labels = 10\n",
    "\n",
    "batch_size = 1000\n",
    "H=[ 961, 650] #hidden layer size\n",
    "#print(num_labels)\n",
    "lam=0.0005\n",
    "num_steps = 20001"
   ]
  },
  {
   "cell_type": "markdown",
   "metadata": {},
   "source": [
    "Load data and labels"
   ]
  },
  {
   "cell_type": "code",
   "execution_count": null,
   "metadata": {
    "collapsed": true
   },
   "outputs": [],
   "source": [
    "with open(pickle_file, 'rb') as f:\n",
    "  save = pickle.load(f)\n",
    "  train_dataset = save['train_dataset']\n",
    "  train_labels = save['train_labels']\n",
    "  valid_dataset = save['valid_dataset']\n",
    "  valid_labels = save['valid_labels']\n",
    "  test_dataset = save['test_dataset']\n",
    "  test_labels = save['test_labels']\n",
    "  del save  # hint to help gc free up memory\n",
    "  print('Training set', train_dataset.shape, train_labels.shape)\n",
    "  print('Validation set', valid_dataset.shape, valid_labels.shape)\n",
    "  print('Test set', test_dataset.shape, test_labels.shape)\n",
    "\n"
   ]
  },
  {
   "cell_type": "code",
   "execution_count": null,
   "metadata": {
    "collapsed": true
   },
   "outputs": [],
   "source": [
    "Preprocessing"
   ]
  },
  {
   "cell_type": "code",
   "execution_count": null,
   "metadata": {
    "collapsed": true
   },
   "outputs": [],
   "source": [
    "def reformat(dataset, labels):\n",
    "  dataset = dataset.reshape((-1, image_size * image_size)).astype(np.float32)\n",
    "  # Map 0 to [1.0, 0.0, 0.0 ...], 1 to [0.0, 1.0, 0.0 ...]\n",
    "  labels = (np.arange(num_labels) == labels[:,None]).astype(np.float32)\n",
    "  return dataset, labels\n",
    "\n",
    "train_dataset, train_labels = reformat(train_dataset, train_labels)\n",
    "valid_dataset, valid_labels = reformat(valid_dataset, valid_labels)\n",
    "test_dataset, test_labels = reformat(test_dataset, test_labels)\n",
    "print('Training set', train_dataset.shape, train_labels.shape)\n",
    "print('Validation set', valid_dataset.shape, valid_labels.shape)\n",
    "print('Test set', test_dataset.shape, test_labels.shape)\n"
   ]
  },
  {
   "cell_type": "code",
   "execution_count": null,
   "metadata": {
    "collapsed": true
   },
   "outputs": [],
   "source": [
    "Define Tensorflow Graph"
   ]
  },
  {
   "cell_type": "code",
   "execution_count": null,
   "metadata": {
    "collapsed": true
   },
   "outputs": [],
   "source": [
    "def predictNeural(X,w1,w2,w3,b1,b2,b3):\n",
    "     layer2= tf.matmul(X, w1) + b1\n",
    "     layer2out = tf.nn.relu(layer2)\n",
    "     layer3 = tf.matmul(layer2out, w2) + b2\n",
    "     layer3out = tf.nn.relu(layer3)\n",
    "     layer4 = tf.matmul(layer3out, w3) + b3\n",
    "     layer4out = tf.nn.softmax(layer4)\n",
    "     return layer4out\n",
    "\n",
    "def accuracy(predictions, labels):\n",
    "  return (100.0 * np.sum(np.argmax(predictions, 1) == np.argmax(labels, 1))\n",
    "          / predictions.shape[0])"
   ]
  },
  {
   "cell_type": "code",
   "execution_count": null,
   "metadata": {
    "collapsed": true
   },
   "outputs": [],
   "source": [
    "graph = tf.Graph()\n",
    "with graph.as_default():\n",
    "  #with tf.device('/gpu:1'):\n",
    "  # Input data. For the training data, we use a placeholder that will be fed\n",
    "  # at run time with a training minibatch.\n",
    "    tf_train_dataset = tf.placeholder(tf.float32,\n",
    "                                  shape=(batch_size, image_size * image_size))\n",
    "    tf_train_labels = tf.placeholder(tf.float32, shape=(batch_size, num_labels))\n",
    "    tf_valid_dataset = tf.constant(valid_dataset)\n",
    "    tf_test_dataset = tf.constant(test_dataset)\n",
    "    \n",
    "    \n",
    "# Variables.\n",
    "    weights1 = tf.Variable(\n",
    "    tf.truncated_normal([input_size, H[0]]),name=\"weights1\")\n",
    "    biases1 = tf.Variable(tf.zeros([H[0]]),name=\"biases1\")\n",
    "    weights2 = tf.Variable(\n",
    "        tf.truncated_normal([H[0] , H[1]]),name=\"weights2\")\n",
    "    biases2 = tf.Variable(tf.zeros([H[1]]),name=\"biases2\")\n",
    "    weights3 = tf.Variable(\n",
    "        tf.truncated_normal([H[1] , num_labels]),name=\"weights3\")\n",
    "    biases3 = tf.Variable(tf.zeros([num_labels]),name=\"biases3\")\n",
    "  \n",
    "  \n",
    "  # Training computation.\n",
    "    X=tf_train_dataset\n",
    "    layer2 = tf.matmul(X, weights1) + biases1\n",
    "    layer2out = tf.nn.relu(layer2)\n",
    "#layer2out = tf.nn.dropout(layer2out,0.9)\n",
    "    layer3 = tf.matmul(layer2out, weights2) + biases2\n",
    "    layer3out = tf.nn.relu(layer3)\n",
    "#layer3out = tf.nn.dropout(layer3out,0.9)\n",
    "    layer4 = tf.matmul(layer3out, weights3) + biases3\n",
    "    output = tf.nn.relu(layer4)\n",
    "\n",
    "    loss = tf.reduce_mean(\n",
    "            tf.nn.softmax_cross_entropy_with_logits(layer4, tf_train_labels)) + lam*tf.nn.l2_loss(weights1) + lam*tf.nn.l2_loss(weights2) + lam*tf.nn.l2_loss(weights3)\n",
    "\n",
    "# Optimizer.\n",
    "    optimizer = tf.train.AdagradOptimizer(0.5).minimize(loss)\n",
    "\n",
    "# Predictions for the training, validation, and test data.\n",
    "    train_prediction = output\n",
    "    X=tf_valid_dataset\n",
    "    valid_prediction = predictNeural(X,weights1,weights2,weights3,biases1,biases2,biases3)\n",
    "    X=tf_test_dataset\n",
    "    test_prediction = predictNeural(X,weights1,weights2,weights3,biases1,biases2,biases3)\n"
   ]
  },
  {
   "cell_type": "markdown",
   "metadata": {},
   "source": [
    "Executing Tensorflow Graph"
   ]
  },
  {
   "cell_type": "code",
   "execution_count": null,
   "metadata": {
    "collapsed": true
   },
   "outputs": [],
   "source": [
    "with tf.Session(graph=graph) as session:\n",
    "    saver=tf.train.Saver(var_list={\"biases1\": biases1, \"weights1\": weights1, \"biases2\": biases2, \n",
    "                                   \"weights2\": weights2 ,\"biases3\": biases3, \n",
    "                                   \"weights3\": weights3 })\n",
    "    tf.initialize_all_variables().run()\n",
    "    if FLAG.randomInit:\n",
    "        print(\"Initialized\")\n",
    "    else:\n",
    "        saver.restore(session,tf.train.latest_checkpoint\n",
    "                (checkPointFolder))\n",
    "    print(session.run(weights1))\n",
    "    for step in range(num_steps):\n",
    "        # Pick an offset within the training data, which has been randomized.\n",
    "        # Note: we could use better randomization across epochs.\n",
    "        offset = (step * batch_size) % (train_labels.shape[0] - batch_size)\n",
    "        # Generate a minibatch.\n",
    "        batch_data = train_dataset[offset:(offset + batch_size), :]\n",
    "        batch_labels = train_labels[offset:(offset + batch_size), :]\n",
    "        # Prepare a dictionary telling the session where to feed the minibatch.\n",
    "        # The key of the dictionary is the placeholder node of the graph to be fed,\n",
    "        # and the value is the numpy array to feed to it.\n",
    "        feed_dict = {tf_train_dataset : batch_data, tf_train_labels : batch_labels}\n",
    "        _, l, predictions = session.run(\n",
    "        [optimizer, loss, train_prediction], feed_dict=feed_dict)\n",
    "        if (step % 500 == 0):\n",
    "            print(\"Minibatch loss at step %d: %f\" % (step, l))\n",
    "            print(\"Minibatch accuracy: %.1f%%\" % accuracy(predictions, batch_labels))\n",
    "            print(\"Validation accuracy: %.1f%%\" % accuracy(\n",
    "            valid_prediction.eval(), valid_labels))\n",
    "            print(\"Test accuracy: %.1f%%\" % accuracy(test_prediction.eval(), test_labels))\n",
    "  \n",
    "        if(step==num_steps-1):\n",
    "            save_path=saver.save(session,checkPointPath)\n",
    "    print(session.run(weights1))   \n",
    "    "
   ]
  }
 ],
 "metadata": {
  "kernelspec": {
   "display_name": "Python 3",
   "language": "python",
   "name": "python3"
  },
  "language_info": {
   "codemirror_mode": {
    "name": "ipython",
    "version": 3
   },
   "file_extension": ".py",
   "mimetype": "text/x-python",
   "name": "python",
   "nbconvert_exporter": "python",
   "pygments_lexer": "ipython3",
   "version": "3.5.2"
  }
 },
 "nbformat": 4,
 "nbformat_minor": 1
}
